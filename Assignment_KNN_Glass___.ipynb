{
 "cells": [
  {
   "cell_type": "code",
   "execution_count": null,
   "id": "10c48f53",
   "metadata": {},
   "outputs": [],
   "source": [
    "# Importing Libraries\n",
    "import numpy as np\n",
    "import pandas as pd\n",
    "import matplotlib.pyplot as plt\n",
    "import seaborn as sns\n",
    "from collections import Counter\n",
    "from dataprep.eda import plot, plot_correlation, plot_missing, create_report\n",
    "import plotly.express as px\n",
    "from plotly.offline import plot as off\n",
    "import plotly.figure_factory as ff\n",
    "import plotly.io as pio\n",
    "from sklearn.preprocessing import StandardScaler\n",
    "from sklearn.neighbors import KNeighborsClassifier\n",
    "from sklearn.metrics import classification_report,confusion_matrix,accuracy_score\n",
    "from sklearn.model_selection import GridSearchCV, KFold, cross_val_score,train_test_split\n",
    "import warnings\n",
    "warnings.filterwarnings('ignore')"
   ]
  },
  {
   "cell_type": "code",
   "execution_count": null,
   "id": "a72391e9",
   "metadata": {},
   "outputs": [],
   "source": [
    "# Import Dataset\n",
    "glass_df = pd.read_csv('glass.csv')\n",
    "glass_df"
   ]
  },
  {
   "cell_type": "code",
   "execution_count": null,
   "id": "379ce0c5",
   "metadata": {},
   "outputs": [],
   "source": [
    "glass_df.isnull().sum()"
   ]
  },
  {
   "cell_type": "code",
   "execution_count": null,
   "id": "607a48a6",
   "metadata": {},
   "outputs": [],
   "source": [
    "glass_df.shape"
   ]
  },
  {
   "cell_type": "code",
   "execution_count": null,
   "id": "6fc70ee8",
   "metadata": {},
   "outputs": [],
   "source": [
    "glass_df.info()"
   ]
  },
  {
   "cell_type": "code",
   "execution_count": null,
   "id": "3fb4a255",
   "metadata": {},
   "outputs": [],
   "source": [
    "glass_df[glass_df.duplicated()]"
   ]
  },
  {
   "cell_type": "code",
   "execution_count": null,
   "id": "79de2786",
   "metadata": {},
   "outputs": [],
   "source": [
    "glass_df.drop_duplicates(inplace=True)"
   ]
  },
  {
   "cell_type": "code",
   "execution_count": null,
   "id": "cf364a20",
   "metadata": {},
   "outputs": [],
   "source": [
    "glass_df.describe()"
   ]
  },
  {
   "cell_type": "code",
   "execution_count": null,
   "id": "b02c1070",
   "metadata": {},
   "outputs": [],
   "source": [
    "glass_df[\"Type\"].unique()"
   ]
  },
  {
   "cell_type": "code",
   "execution_count": null,
   "id": "96f09fde",
   "metadata": {},
   "outputs": [],
   "source": [
    "glass_df['Type'].value_counts().sort_index(ascending=True)"
   ]
  },
  {
   "cell_type": "code",
   "execution_count": null,
   "id": "be98e9c9",
   "metadata": {},
   "outputs": [],
   "source": [
    "features = glass_df.columns[:-1].tolist()\n",
    "for feat in features:\n",
    "    skew = glass_df[feat].skew()\n",
    "    sns.distplot(glass_df[feat], kde= False, label='Skew = %.3f' %(skew), bins=30)\n",
    "    plt.legend(loc='best')\n",
    "    plt.show()"
   ]
  },
  {
   "cell_type": "code",
   "execution_count": null,
   "id": "272dd192",
   "metadata": {},
   "outputs": [],
   "source": [
    "# Detect observations with more than one outlier\n",
    "\n",
    "def outlier_hunt(df):\n",
    "    \"\"\"\n",
    "    Takes a dataframe df of features and returns a list of the indices\n",
    "    corresponding to the observations containing more than 2 outliers. \n",
    "    \"\"\"\n",
    "    outlier_indices = []\n",
    "    \n",
    "    # iterate over features(columns)\n",
    "    for col in df.columns.tolist():\n",
    "        # 1st quartile (25%)\n",
    "        Q1 = np.percentile(df[col], 25)\n",
    "        \n",
    "        # 3rd quartile (75%)\n",
    "        Q3 = np.percentile(df[col],75)\n",
    "        \n",
    "        # Interquartile rrange (IQR)\n",
    "        IQR = Q3 - Q1\n",
    "        \n",
    "        # outlier step\n",
    "        outlier_step = 1.5 * IQR\n",
    "        \n",
    "        # Determine a list of indices of outliers for feature col\n",
    "        outlier_list_col = df[(df[col] < Q1 - outlier_step) | (df[col] > Q3 + outlier_step )].index\n",
    "        \n",
    "        # append the found outlier indices for col to the list of outlier indices \n",
    "        outlier_indices.extend(outlier_list_col)\n",
    "        \n",
    "    # select observations containing more than 2 outliers\n",
    "    outlier_indices = Counter(outlier_indices)        \n",
    "    multiple_outliers = list( k for k, v in outlier_indices.items() if v > 2 )\n",
    "    \n",
    "    return multiple_outliers   \n",
    "\n",
    "print('The dataset contains %d observations with more than 2 outliers' %(len(outlier_hunt(glass_df[features])))) "
   ]
  },
  {
   "cell_type": "code",
   "execution_count": null,
   "id": "04c8a836",
   "metadata": {},
   "outputs": [],
   "source": [
    "list(glass_df)"
   ]
  },
  {
   "cell_type": "code",
   "execution_count": null,
   "id": "685f71cf",
   "metadata": {
    "scrolled": true
   },
   "outputs": [],
   "source": [
    "ot=glass_df.copy() \n",
    "fig, axes=plt.subplots(9,1,figsize=(14,12),sharex=False,sharey=False)\n",
    "sns.boxplot(x='RI',data=ot,palette='crest',ax=axes[0])\n",
    "sns.boxplot(x='Na',data=ot,palette='crest',ax=axes[1])\n",
    "sns.boxplot(x='Mg',data=ot,palette='crest',ax=axes[2])\n",
    "sns.boxplot(x='Al',data=ot,palette='crest',ax=axes[3])\n",
    "sns.boxplot(x='Si',data=ot,palette='crest',ax=axes[4])\n",
    "sns.boxplot(x='K',data=ot,palette='crest',ax=axes[5])\n",
    "sns.boxplot(x='Ca',data=ot,palette='crest',ax=axes[6])\n",
    "sns.boxplot(x='Ba',data=ot,palette='crest',ax=axes[7])\n",
    "sns.boxplot(x='Fe',data=ot,palette='crest',ax=axes[8])\n",
    "plt.tight_layout(pad=2.0)"
   ]
  },
  {
   "cell_type": "code",
   "execution_count": null,
   "id": "39a4b2fc",
   "metadata": {},
   "outputs": [],
   "source": [
    "plot(glass_df)"
   ]
  },
  {
   "cell_type": "code",
   "execution_count": null,
   "id": "f1103470",
   "metadata": {},
   "outputs": [],
   "source": [
    "plt.figure(figsize=(8,8))\n",
    "sns.pairplot(glass_df,hue ='Type', palette='coolwarm')\n",
    "plt.show()"
   ]
  },
  {
   "cell_type": "code",
   "execution_count": null,
   "id": "88cf9a74",
   "metadata": {},
   "outputs": [],
   "source": [
    "# Having a look at the correlation matrix\n",
    "\n",
    "fig, ax = plt.subplots(figsize=(15,10))\n",
    "sns.heatmap(glass_df.corr(), annot=True, fmt='.1g', cmap=\"viridis\", cbar=False, linewidths=0.5, linecolor='black')"
   ]
  },
  {
   "cell_type": "code",
   "execution_count": null,
   "id": "7f07443d",
   "metadata": {},
   "outputs": [],
   "source": [
    "# Set default plot grid\n",
    "sns.set_style('whitegrid')\n",
    "# Plot histogram of classes\n",
    "plt.rcParams['figure.figsize'] = (7,7)\n",
    "sns.countplot(glass_df['Type'], palette='YlGnBu')\n",
    "ax = plt.gca()\n",
    "ax.set_title(\"Histogram of Classes\")"
   ]
  },
  {
   "cell_type": "code",
   "execution_count": null,
   "id": "498beb7a",
   "metadata": {},
   "outputs": [],
   "source": [
    "plt.figure(figsize = (16,9))\n",
    "ax = sns.barplot(x = glass_df['Type'].value_counts().index.tolist(), y = glass_df['Type'].value_counts().tolist())\n",
    "plt.yticks(rotation = 0, fontsize = 14)\n",
    "plt.xticks(rotation = 45, fontsize = 12)\n",
    "plt.title(\"Class Type Distribution\",  fontsize = 18, fontweight = 'bold')\n",
    "plt.xlabel('Types')\n",
    "plt.ylabel('Counts')\n",
    "for i in ax.containers:\n",
    "    ax.bar_label(i,)"
   ]
  },
  {
   "cell_type": "code",
   "execution_count": null,
   "id": "f21e51bc",
   "metadata": {},
   "outputs": [],
   "source": [
    "outlier_indices = outlier_hunt(glass_df[features])\n",
    "df = glass_df.drop(outlier_indices).reset_index(drop=True)\n",
    "print(df.shape)\n",
    "df.head()"
   ]
  },
  {
   "cell_type": "code",
   "execution_count": null,
   "id": "61c9843a",
   "metadata": {},
   "outputs": [],
   "source": [
    "for feat in features:\n",
    "    skew = df[feat].skew()\n",
    "    sns.distplot(df[feat], kde=False, label='Skew = %.3f' %(skew), bins=30)\n",
    "    plt.legend(loc='best')\n",
    "    plt.show()"
   ]
  },
  {
   "cell_type": "code",
   "execution_count": null,
   "id": "e785e964",
   "metadata": {},
   "outputs": [],
   "source": [
    "from scipy.stats import boxcox\n",
    "features_boxcox = []\n",
    "\n",
    "for feature in features:\n",
    "    bc_transformed, _ = boxcox(df[feature]+1)  # shift by 1 to avoid computing log of negative values\n",
    "    features_boxcox.append(bc_transformed)\n",
    "\n",
    "features_boxcox = np.column_stack(features_boxcox)\n",
    "df_bc = pd.DataFrame(data=features_boxcox, columns=features)\n",
    "df_bc['Type'] = df['Type']\n",
    "df_bc.describe()"
   ]
  },
  {
   "cell_type": "code",
   "execution_count": null,
   "id": "7b5b3949",
   "metadata": {},
   "outputs": [],
   "source": [
    "for feature in features:\n",
    "    fig, ax = plt.subplots(1,2,figsize=(10,6))    \n",
    "    ax[0].hist(df[feature], color='blue', bins=30, alpha=0.3, label='Skew = %s' %(str(round(df[feature].skew(),3))) )\n",
    "    ax[0].set_title(str(feature))   \n",
    "    ax[0].legend(loc=0)\n",
    "    ax[1].hist(df_bc[feature], color='red', bins=30, alpha=0.3, label='Skew = %s' %(str(round(df_bc[feature].skew(),3))) )\n",
    "    ax[1].set_title(str(feature)+' after a Box-Cox transformation')\n",
    "    ax[1].legend(loc=0)\n",
    "    plt.show()"
   ]
  },
  {
   "cell_type": "code",
   "execution_count": null,
   "id": "e13c78df",
   "metadata": {},
   "outputs": [],
   "source": [
    "# check if skew is closer to zero after a box-cox transform\n",
    "for feature in features:\n",
    "    delta = np.abs( df_bc[feature].skew() / df[feature].skew() )\n",
    "    if delta < 1.0 :\n",
    "        print('Feature %s is less skewed after a Box-Cox transform' %(feature))\n",
    "    else:\n",
    "        print('Feature %s is more skewed after a Box-Cox transform'  %(feature))"
   ]
  },
  {
   "cell_type": "code",
   "execution_count": null,
   "id": "4b7d59c0",
   "metadata": {},
   "outputs": [],
   "source": [
    "from sklearn.decomposition import PCA \n",
    "pca = PCA(random_state = 0)\n",
    "pca.fit(x_train)\n",
    "var_exp = pca.explained_variance_ratio_\n",
    "cum_var_exp = np.cumsum(var_exp)\n",
    "plt.figure(figsize=(8,6))\n",
    "plt.bar(range(1,len(cum_var_exp)+1), var_exp, align= 'center', label= 'individual variance explained', \\\n",
    "       alpha = 0.7)\n",
    "plt.step(range(1,len(cum_var_exp)+1), cum_var_exp, where = 'mid' , label= 'cumulative variance explained', \\\n",
    "        color= 'red')\n",
    "plt.ylabel('Explained variance ratio')\n",
    "plt.xlabel('Principal components')\n",
    "plt.xticks(np.arange(1,len(var_exp)+1,1))\n",
    "plt.legend(loc='center right')\n",
    "plt.show()"
   ]
  },
  {
   "cell_type": "code",
   "execution_count": null,
   "id": "64ec8fe3",
   "metadata": {},
   "outputs": [],
   "source": [
    "# Cumulative variance explained\n",
    "for i, sum in enumerate(cum_var_exp):\n",
    "    print(\"PC\"+ str(i+1), \"Cumulative variance: {:.2f}%\".format(cum_var_exp[i]*100))"
   ]
  },
  {
   "cell_type": "code",
   "execution_count": null,
   "id": "8308fce7",
   "metadata": {},
   "outputs": [],
   "source": [
    "x = df.drop('Type',axis=1)\n",
    "y = df[['Type']]"
   ]
  },
  {
   "cell_type": "code",
   "execution_count": null,
   "id": "31ff339e",
   "metadata": {},
   "outputs": [],
   "source": [
    "x_train,x_test,y_train,y_test = train_test_split(x,y,test_size=0.3,random_state=0)"
   ]
  },
  {
   "cell_type": "code",
   "execution_count": null,
   "id": "58fd99c3",
   "metadata": {},
   "outputs": [],
   "source": [
    "print(\"Shape of X_train: \",x_train.shape)\n",
    "print(\"Shape of X_test: \", x_test.shape)\n",
    "print(\"Shape of y_train: \",y_train.shape)\n",
    "print(\"Shape of y_test\",y_test.shape)"
   ]
  },
  {
   "cell_type": "code",
   "execution_count": null,
   "id": "071938dc",
   "metadata": {},
   "outputs": [],
   "source": [
    "from sklearn.preprocessing import StandardScaler\n",
    "sc = StandardScaler()\n",
    "\n",
    "x_train = sc.fit_transform(x_train)\n",
    "x_test = sc.transform(x_test)"
   ]
  },
  {
   "cell_type": "code",
   "execution_count": null,
   "id": "4ff97b68",
   "metadata": {},
   "outputs": [],
   "source": [
    "# Get score for different values of n\n",
    "k_list = np.arange(1, 40, 2)\n",
    "mean_scores = []\n",
    "accuracy_list = []\n",
    "error_rate = []\n",
    "\n",
    "for i in k_list:\n",
    "    knn = KNeighborsClassifier(n_neighbors=i)\n",
    "    knn.fit(x_train,y_train)\n",
    "    pred_i = knn.predict(x_test)\n",
    "    pred_i = pred_i.reshape(60,1)\n",
    "    score = cross_val_score(knn,x_train, y_train,cv=10)\n",
    "    mean_scores.append(np.mean(score))\n",
    "    error_rate.append(np.mean(pred_i != y_test))"
   ]
  },
  {
   "cell_type": "code",
   "execution_count": null,
   "id": "afac32c5",
   "metadata": {},
   "outputs": [],
   "source": [
    "n_neighbors = np.array([2*i+1 for i in range(1,20)])\n",
    "param_grid = dict(n_neighbors=n_neighbors)\n",
    "n_neighbors"
   ]
  },
  {
   "cell_type": "code",
   "execution_count": null,
   "id": "2cccca93",
   "metadata": {},
   "outputs": [],
   "source": [
    "model = KNeighborsClassifier()\n",
    "grid = GridSearchCV(estimator=model, param_grid=param_grid, cv =10)\n",
    "grid.fit(x, y)"
   ]
  },
  {
   "cell_type": "code",
   "execution_count": null,
   "id": "550bfd8e",
   "metadata": {},
   "outputs": [],
   "source": [
    "print(grid.best_score_)\n",
    "print(grid.best_params_)"
   ]
  },
  {
   "cell_type": "code",
   "execution_count": null,
   "id": "ed27458d",
   "metadata": {},
   "outputs": [],
   "source": [
    "import matplotlib.pyplot as plt \n",
    "%matplotlib inline\n",
    "# choose k between 1 to 40\n",
    "k_range = np.array([2*i+1 for i in range(1,20)])\n",
    "k_scores = []\n",
    "# use iteration to caclulator different k in models, then return the average accuracy based on the cross validation\n",
    "for k in k_range:\n",
    "    knn = KNeighborsClassifier(n_neighbors=k)\n",
    "    scores = cross_val_score(knn, x, y, cv=10)\n",
    "    k_scores.append(scores.mean())\n",
    "# plot to see clearly\n",
    "plt.figure(figsize=(12,8))\n",
    "plt.plot(k_range, k_scores)\n",
    "plt.xlabel('Value of K for KNN')\n",
    "plt.ylabel('Cross-Validated Accuracy')\n",
    "plt.xticks(k_range)\n",
    "plt.show()"
   ]
  },
  {
   "cell_type": "code",
   "execution_count": null,
   "id": "59b6fc67",
   "metadata": {},
   "outputs": [],
   "source": [
    "error_rate = []\n",
    "\n",
    "# Will take some time\n",
    "k_range = [i for i in range(3,40, 2)]\n",
    "for i in k_range:\n",
    "    knn = KNeighborsClassifier(n_neighbors=i)\n",
    "    knn.fit(x_train,y_train)\n",
    "    pred_i = knn.predict(x_test)\n",
    "    pred_i = pred_i.reshape(60,1)\n",
    "    error_rate.append(np.mean(pred_i != y_test))\n",
    "plt.figure(figsize=(10,6))\n",
    "plt.plot([i for i in range(3,40, 2)],error_rate,color='blue', linestyle='dashed', marker='o',\n",
    "         markerfacecolor='red', markersize=10)\n",
    "plt.title('Error Rate vs. K Value')\n",
    "plt.xlabel('K')\n",
    "plt.ylabel('Error Rate')"
   ]
  },
  {
   "cell_type": "code",
   "execution_count": null,
   "id": "14e1b6c0",
   "metadata": {},
   "outputs": [],
   "source": [
    "error1= []\n",
    "error2= []\n",
    "k_range = [i for i in range(3,40, 2)]\n",
    "for k in k_range:\n",
    "    knn= KNeighborsClassifier(n_neighbors=k)\n",
    "    knn.fit(x_train,y_train)\n",
    "    y_pred1= knn.predict(x_train)\n",
    "    y_pred1 = y_pred1.reshape(139,1)\n",
    "    error1.append(np.mean(y_train!= y_pred1))\n",
    "    y_pred2= knn.predict(x_test)\n",
    "    y_pred2 = y_pred2.reshape(60,1)\n",
    "    error2.append(np.mean(y_test!= y_pred2))\n",
    "# Plot\n",
    "plt.figure(figsize=[13,8])\n",
    "plt.plot(k_range, error1, label = 'Testing Error')\n",
    "plt.plot(k_range, error2, label = 'Training Error')\n",
    "plt.legend()\n",
    "plt.title('-value VS Error')\n",
    "plt.xlabel('Number of Neighbors')\n",
    "plt.ylabel('Error')\n",
    "plt.xticks(k_range)\n",
    "plt.show()"
   ]
  },
  {
   "cell_type": "code",
   "execution_count": null,
   "id": "29fe1078",
   "metadata": {},
   "outputs": [],
   "source": [
    "train_accuracy = []\n",
    "test_accuracy = []\n",
    "\n",
    "k_range = [i for i in range(3,40, 2)]\n",
    "for k in k_range:\n",
    "    knn = KNeighborsClassifier(n_neighbors=k)\n",
    "    # Fit with knn\n",
    "    knn.fit(x_train,y_train)\n",
    "    #train accuracy\n",
    "    train_accuracy.append(knn.score(x_train,y_train))\n",
    "    # test accuracy\n",
    "    test_accuracy.append(knn.score(x_test,y_test))\n",
    "# Plot\n",
    "plt.figure(figsize=[13,8])\n",
    "plt.plot(k_range, test_accuracy, label = 'Testing Accuracy')\n",
    "plt.plot(k_range, train_accuracy, label = 'Training Accuracy')\n",
    "plt.legend()\n",
    "plt.title('-value VS Accuracy')\n",
    "plt.xlabel('Number of Neighbors')\n",
    "plt.ylabel('Accuracy')\n",
    "plt.xticks(k_range)\n",
    "plt.show()"
   ]
  },
  {
   "cell_type": "code",
   "execution_count": null,
   "id": "a1fefd60",
   "metadata": {},
   "outputs": [],
   "source": [
    "# NOW WITH K=3\n",
    "knn = KNeighborsClassifier(algorithm='auto', leaf_size=30, metric='minkowski',\n",
    "           metric_params=None, n_jobs=1, n_neighbors=3, p=2,\n",
    "           weights='uniform')\n",
    "\n",
    "knn.fit(x_train,y_train)\n",
    "pred = knn.predict(x_test)\n",
    "\n",
    "print('WITH K=3')\n",
    "print('\\n')\n",
    "print(confusion_matrix(y_test,pred))\n",
    "print('\\n')\n",
    "print(classification_report(y_test,pred))"
   ]
  },
  {
   "cell_type": "code",
   "execution_count": null,
   "id": "efcaaa83",
   "metadata": {},
   "outputs": [],
   "source": [
    "plt.rcParams['figure.figsize'] = (9,9) \n",
    "_, ax = plt.subplots()\n",
    "ax.hist(y_test, color = 'm', alpha = 0.5, label = 'actual', bins=7)\n",
    "ax.hist(pred, color = 'c', alpha = 0.5, label = 'prediction', bins=7)\n",
    "ax.yaxis.set_ticks(np.arange(0,32))\n",
    "ax.legend(loc = 'best')\n",
    "plt.show()"
   ]
  },
  {
   "cell_type": "code",
   "execution_count": null,
   "id": "a395f5d6",
   "metadata": {},
   "outputs": [],
   "source": [
    "# Fitting classifier to the Training set\n",
    "from sklearn.pipeline import Pipeline\n",
    "classifier_knn = KNeighborsClassifier()\n",
    "steps = [\n",
    "    ('model', KNeighborsClassifier())\n",
    "]\n",
    "knn_pipe = Pipeline(steps)"
   ]
  },
  {
   "cell_type": "code",
   "execution_count": null,
   "id": "d0cd7485",
   "metadata": {},
   "outputs": [],
   "source": [
    "y_pred_knn_train = knn.predict(x_train)\n",
    "accuracy_knn_train = accuracy_score(y_train, y_pred_knn_train)\n",
    "print(\"Training set Accuracy: \", accuracy_knn_train)\n",
    "\n",
    "y_pred_knn_test = knn.predict(x_test)\n",
    "accuracy_knn_test = accuracy_score(y_test, y_pred_knn_test)\n",
    "print(\"Test set Accuracy: \", accuracy_knn_test)"
   ]
  },
  {
   "cell_type": "code",
   "execution_count": null,
   "id": "82e9726b",
   "metadata": {},
   "outputs": [],
   "source": [
    "from sklearn.metrics import confusion_matrix\n",
    "sns.heatmap(confusion_matrix(y_test, y_pred_knn_test), annot=True, cmap = 'viridis', fmt='.0f')\n",
    "plt.show()"
   ]
  },
  {
   "cell_type": "code",
   "execution_count": null,
   "id": "93bd67b7",
   "metadata": {},
   "outputs": [],
   "source": [
    "plt.rcParams['figure.figsize'] = (9,9) \n",
    "_, ax = plt.subplots()\n",
    "ax.hist(y_test, color = 'm', alpha = 0.5, label = 'actual', bins=7)\n",
    "ax.hist(y_pred_knn_test, color = 'c', alpha = 0.5, label = 'prediction', bins=7)\n",
    "ax.yaxis.set_ticks(np.arange(0,30))\n",
    "ax.legend(loc = 'best')\n",
    "plt.show()"
   ]
  },
  {
   "cell_type": "code",
   "execution_count": null,
   "id": "3b2870c3",
   "metadata": {},
   "outputs": [],
   "source": []
  }
 ],
 "metadata": {
  "kernelspec": {
   "display_name": "Python 3 (ipykernel)",
   "language": "python",
   "name": "python3"
  },
  "language_info": {
   "codemirror_mode": {
    "name": "ipython",
    "version": 3
   },
   "file_extension": ".py",
   "mimetype": "text/x-python",
   "name": "python",
   "nbconvert_exporter": "python",
   "pygments_lexer": "ipython3",
   "version": "3.9.12"
  }
 },
 "nbformat": 4,
 "nbformat_minor": 5
}
